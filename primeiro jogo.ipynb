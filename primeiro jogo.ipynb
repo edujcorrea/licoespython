{
 "cells": [
  {
   "cell_type": "code",
   "execution_count": 1,
   "id": "20241d01",
   "metadata": {},
   "outputs": [],
   "source": [
    "import tkinter as tk"
   ]
  },
  {
   "cell_type": "code",
   "execution_count": 2,
   "id": "5858d218",
   "metadata": {},
   "outputs": [],
   "source": [
    "lives = 3"
   ]
  },
  {
   "cell_type": "code",
   "execution_count": 7,
   "id": "6d167c32",
   "metadata": {},
   "outputs": [],
   "source": [
    "root = tk.Tk()\n",
    "frame = tk.Frame(root)\n",
    "canvas = tk.Canvas(frame, width = 1200, height = 800, bg='#0000ff')"
   ]
  },
  {
   "cell_type": "code",
   "execution_count": 8,
   "id": "d78f1595",
   "metadata": {},
   "outputs": [],
   "source": [
    "frame.pack()\n",
    "canvas.pack()\n",
    "root.title('Janela do Jogo.')\n",
    "root.mainloop()"
   ]
  },
  {
   "cell_type": "code",
   "execution_count": null,
   "id": "5aa7b671",
   "metadata": {},
   "outputs": [],
   "source": [
    "# Primeira Aula 01 - Criação da Janela de jogo"
   ]
  },
  {
   "cell_type": "code",
   "execution_count": 1,
   "id": "3d2d1bd9",
   "metadata": {},
   "outputs": [
    {
     "ename": "KeyboardInterrupt",
     "evalue": "",
     "output_type": "error",
     "traceback": [
      "\u001b[0;31m---------------------------------------------------------------------------\u001b[0m",
      "\u001b[0;31mKeyboardInterrupt\u001b[0m                         Traceback (most recent call last)",
      "\u001b[0;32m/tmp/ipykernel_4181/3827210156.py\u001b[0m in \u001b[0;36m<module>\u001b[0;34m\u001b[0m\n\u001b[1;32m     16\u001b[0m     \u001b[0mgame\u001b[0m \u001b[0;34m=\u001b[0m \u001b[0mGame\u001b[0m\u001b[0;34m(\u001b[0m\u001b[0mroot\u001b[0m\u001b[0;34m)\u001b[0m\u001b[0;34m\u001b[0m\u001b[0;34m\u001b[0m\u001b[0m\n\u001b[1;32m     17\u001b[0m     \u001b[0;31m#essa linha é só para abrir a janela, é a chamada a instância do Game.\u001b[0m\u001b[0;34m\u001b[0m\u001b[0;34m\u001b[0m\u001b[0;34m\u001b[0m\u001b[0m\n\u001b[0;32m---> 18\u001b[0;31m     \u001b[0mgame\u001b[0m\u001b[0;34m.\u001b[0m\u001b[0mmainloop\u001b[0m\u001b[0;34m(\u001b[0m\u001b[0;34m)\u001b[0m\u001b[0;34m\u001b[0m\u001b[0;34m\u001b[0m\u001b[0m\n\u001b[0m",
      "\u001b[0;32m~/anaconda3/lib/python3.8/tkinter/__init__.py\u001b[0m in \u001b[0;36mmainloop\u001b[0;34m(self, n)\u001b[0m\n\u001b[1;32m   1418\u001b[0m     \u001b[0;32mdef\u001b[0m \u001b[0mmainloop\u001b[0m\u001b[0;34m(\u001b[0m\u001b[0mself\u001b[0m\u001b[0;34m,\u001b[0m \u001b[0mn\u001b[0m\u001b[0;34m=\u001b[0m\u001b[0;36m0\u001b[0m\u001b[0;34m)\u001b[0m\u001b[0;34m:\u001b[0m\u001b[0;34m\u001b[0m\u001b[0;34m\u001b[0m\u001b[0m\n\u001b[1;32m   1419\u001b[0m         \u001b[0;34m\"\"\"Call the mainloop of Tk.\"\"\"\u001b[0m\u001b[0;34m\u001b[0m\u001b[0;34m\u001b[0m\u001b[0m\n\u001b[0;32m-> 1420\u001b[0;31m         \u001b[0mself\u001b[0m\u001b[0;34m.\u001b[0m\u001b[0mtk\u001b[0m\u001b[0;34m.\u001b[0m\u001b[0mmainloop\u001b[0m\u001b[0;34m(\u001b[0m\u001b[0mn\u001b[0m\u001b[0;34m)\u001b[0m\u001b[0;34m\u001b[0m\u001b[0;34m\u001b[0m\u001b[0m\n\u001b[0m\u001b[1;32m   1421\u001b[0m \u001b[0;34m\u001b[0m\u001b[0m\n\u001b[1;32m   1422\u001b[0m     \u001b[0;32mdef\u001b[0m \u001b[0mquit\u001b[0m\u001b[0;34m(\u001b[0m\u001b[0mself\u001b[0m\u001b[0;34m)\u001b[0m\u001b[0;34m:\u001b[0m\u001b[0;34m\u001b[0m\u001b[0;34m\u001b[0m\u001b[0m\n",
      "\u001b[0;31mKeyboardInterrupt\u001b[0m: "
     ]
    }
   ],
   "source": [
    "import tkinter as tk\n",
    "class Game(tk.Frame):\n",
    "    def __init__(self, master):\n",
    "        super(Game, self).__init__(master)\n",
    "        self.lives = 5\n",
    "        self.width = 1200\n",
    "        self.height = 800\n",
    "        self.canvas = tk.Canvas(self, bg='#0000ff',\n",
    "                                width = self.width,\n",
    "                                height= self.height)\n",
    "        self.canvas.pack()\n",
    "        self.pack()\n",
    "if __name__ == '__main__':\n",
    "    root = tk.Tk()\n",
    "    root.title('Janela do Jogo Breakout.')\n",
    "    game = Game(root)\n",
    "    #essa linha é só para abrir a janela, é a chamada a instância do Game.\n",
    "    game.mainloop()"
   ]
  },
  {
   "cell_type": "code",
   "execution_count": null,
   "id": "cb03e779",
   "metadata": {},
   "outputs": [],
   "source": []
  },
  {
   "cell_type": "code",
   "execution_count": null,
   "id": "1c241b2d",
   "metadata": {},
   "outputs": [],
   "source": [
    "# Segunda Aula 02 - Criando Objetos do Jogo!"
   ]
  },
  {
   "cell_type": "code",
   "execution_count": null,
   "id": "3b566e0c",
   "metadata": {},
   "outputs": [],
   "source": [
    "class GameObject:\n",
    "    def __init__(self, canvas, item):\n",
    "        self.canvas = canvas\n",
    "        self.item = item\n",
    "\n",
    "    def get_position(self):\n",
    "        return self.canvas.coords(self.item)\n",
    "\n",
    "    def move(self, x, y):\n",
    "        self.canvas.move(self.item, x, y)\n",
    "\n",
    "    def delete(self):\n",
    "        self.canvas.delete(self.item)"
   ]
  },
  {
   "cell_type": "code",
   "execution_count": 3,
   "id": "b6e2538e",
   "metadata": {},
   "outputs": [
    {
     "ename": "NameError",
     "evalue": "name 'GameObject' is not defined",
     "output_type": "error",
     "traceback": [
      "\u001b[0;31m---------------------------------------------------------------------------\u001b[0m",
      "\u001b[0;31mNameError\u001b[0m                                 Traceback (most recent call last)",
      "\u001b[0;32m/tmp/ipykernel_4181/588755478.py\u001b[0m in \u001b[0;36m<module>\u001b[0;34m\u001b[0m\n\u001b[1;32m      4\u001b[0m \u001b[0mcanvas\u001b[0m \u001b[0;34m=\u001b[0m \u001b[0mtk\u001b[0m\u001b[0;34m.\u001b[0m\u001b[0mCanvas\u001b[0m\u001b[0;34m(\u001b[0m\u001b[0mframe\u001b[0m\u001b[0;34m,\u001b[0m \u001b[0mwidth\u001b[0m\u001b[0;34m=\u001b[0m\u001b[0;36m1200\u001b[0m\u001b[0;34m,\u001b[0m \u001b[0mheight\u001b[0m\u001b[0;34m=\u001b[0m\u001b[0;36m800\u001b[0m\u001b[0;34m,\u001b[0m \u001b[0mbg\u001b[0m\u001b[0;34m=\u001b[0m\u001b[0;34m'#0000ff'\u001b[0m\u001b[0;34m)\u001b[0m\u001b[0;34m\u001b[0m\u001b[0;34m\u001b[0m\u001b[0m\n\u001b[1;32m      5\u001b[0m \u001b[0mitem\u001b[0m \u001b[0;34m=\u001b[0m \u001b[0mcanvas\u001b[0m\u001b[0;34m.\u001b[0m\u001b[0mcreate_rectangle\u001b[0m\u001b[0;34m(\u001b[0m\u001b[0;36m10\u001b[0m\u001b[0;34m,\u001b[0m\u001b[0;36m10\u001b[0m\u001b[0;34m,\u001b[0m\u001b[0;36m100\u001b[0m\u001b[0;34m,\u001b[0m\u001b[0;36m80\u001b[0m\u001b[0;34m,\u001b[0m \u001b[0mfill\u001b[0m\u001b[0;34m=\u001b[0m\u001b[0;34m'gray'\u001b[0m\u001b[0;34m)\u001b[0m\u001b[0;34m\u001b[0m\u001b[0;34m\u001b[0m\u001b[0m\n\u001b[0;32m----> 6\u001b[0;31m \u001b[0mgame_object\u001b[0m \u001b[0;34m=\u001b[0m \u001b[0mGameObject\u001b[0m\u001b[0;34m(\u001b[0m\u001b[0mcanvas\u001b[0m\u001b[0;34m,\u001b[0m \u001b[0mitem\u001b[0m\u001b[0;34m)\u001b[0m \u001b[0;31m# cria nova instancia\u001b[0m\u001b[0;34m\u001b[0m\u001b[0;34m\u001b[0m\u001b[0m\n\u001b[0m\u001b[1;32m      7\u001b[0m \u001b[0mprint\u001b[0m\u001b[0;34m(\u001b[0m\u001b[0mgame_object\u001b[0m\u001b[0;34m.\u001b[0m\u001b[0mget_position\u001b[0m\u001b[0;34m(\u001b[0m\u001b[0;34m)\u001b[0m\u001b[0;34m)\u001b[0m \u001b[0;31m# [10, 10, 100, 80]\u001b[0m\u001b[0;34m\u001b[0m\u001b[0;34m\u001b[0m\u001b[0m\n\u001b[1;32m      8\u001b[0m \u001b[0mgame_object\u001b[0m\u001b[0;34m.\u001b[0m\u001b[0mmove\u001b[0m\u001b[0;34m(\u001b[0m\u001b[0;36m20\u001b[0m\u001b[0;34m,\u001b[0m \u001b[0;34m-\u001b[0m\u001b[0;36m10\u001b[0m\u001b[0;34m)\u001b[0m\u001b[0;34m\u001b[0m\u001b[0;34m\u001b[0m\u001b[0m\n",
      "\u001b[0;31mNameError\u001b[0m: name 'GameObject' is not defined"
     ]
    }
   ],
   "source": [
    "import tkinter as tk\n",
    "root = tk.Tk()\n",
    "frame = tk.Frame(root)\n",
    "canvas = tk.Canvas(frame, width=1200, height=800, bg='#0000ff')\n",
    "item = canvas.create_rectangle(10,10,100,80, fill='gray')\n",
    "game_object = GameObject(canvas, item) # cria nova instancia\n",
    "print(game_object.get_position()) # [10, 10, 100, 80]\n",
    "game_object.move(20, -10)\n",
    "print(game_object.get_position()) #[30, 0, 120, 70]\n",
    "game_object.delete()"
   ]
  },
  {
   "cell_type": "code",
   "execution_count": 12,
   "id": "cd7a1550",
   "metadata": {},
   "outputs": [],
   "source": [
    "import tkinter as tk\n",
    "\n",
    "\n",
    "class GameObject:\n",
    "    def __init__(self, canvas, item):\n",
    "        self.canvas = canvas\n",
    "        self.item = item\n",
    "\n",
    "    def get_position(self):\n",
    "        return self.canvas.coords(self.item)\n",
    "\n",
    "    def move(self, x, y):\n",
    "        self.canvas.move(self.item, x, y)\n",
    "\n",
    "    def delete(self):\n",
    "        self.canvas.delete(self.item)\n",
    "\n",
    "\n",
    "class Ball(GameObject):\n",
    "    def __init__(self, canvas, x, y):\n",
    "        self.radius = 10\n",
    "        self.direction = [1, -1]\n",
    "        self.speed = 10\n",
    "        item = canvas.create_oval(x-self.radius, y-self.radius,\n",
    "                                  x+self.radius, y+self.radius,\n",
    "                                  fill='white')\n",
    "        super(Ball, self).__init__(canvas, item)\n",
    "\n",
    "\n",
    "class Paddle(GameObject):\n",
    "    def __init__(self, canvas, x, y):\n",
    "        self.width = 80\n",
    "        self.height = 10\n",
    "        self.ball = None\n",
    "        item = canvas.create_rectangle(x - self.width / 2,\n",
    "                                       y - self.height / 2,\n",
    "                                       x + self.width / 2,\n",
    "                                       y + self.height / 2,\n",
    "                                       fill='blue')\n",
    "        super(Paddle, self).__init__(canvas, item)\n",
    "\n",
    "    def set_ball(self, ball):\n",
    "        self.ball = ball\n",
    "\n",
    "    def move(self, offset):\n",
    "        coords = self.get_position()\n",
    "        width = self.canvas.winfo_width()\n",
    "        if coords[0] + offset >= 0 and coords[2] + offset <= width:\n",
    "            super(Paddle, self).move(offset, 0)\n",
    "            if self.ball is not None:\n",
    "                self.ball.move(offset, 0)\n",
    "\n",
    "\n",
    "class Brick(GameObject):\n",
    "    COLORS = {1: '#999999', 2: '#555555', 3: '#222222'}\n",
    "\n",
    "    def __init__(self, canvas, x, y, hits):\n",
    "        self.width = 75\n",
    "        self.height = 20\n",
    "        self.hits = hits\n",
    "        color = Brick.COLORS[hits]\n",
    "        item = canvas.create_rectangle(x - self.width / 2,\n",
    "                                       y - self.height / 2,\n",
    "                                       x + self.width / 2,\n",
    "                                       y + self.height / 2,\n",
    "                                       fill=color, tags='brick')\n",
    "        super(Brick, self).__init__(canvas, item)\n",
    "\n",
    "    def hit(self):\n",
    "        self.hits -= 1\n",
    "        if self.hits == 0:\n",
    "            self.delete()\n",
    "        else:\n",
    "            self.canvas.itemconfig(self.item,\n",
    "                                   fill=Brick.COLORS[self.hits])"
   ]
  },
  {
   "cell_type": "code",
   "execution_count": null,
   "id": "59625685",
   "metadata": {},
   "outputs": [],
   "source": []
  }
 ],
 "metadata": {
  "kernelspec": {
   "display_name": "Python 3 (ipykernel)",
   "language": "python",
   "name": "python3"
  },
  "language_info": {
   "codemirror_mode": {
    "name": "ipython",
    "version": 3
   },
   "file_extension": ".py",
   "mimetype": "text/x-python",
   "name": "python",
   "nbconvert_exporter": "python",
   "pygments_lexer": "ipython3",
   "version": "3.8.5"
  }
 },
 "nbformat": 4,
 "nbformat_minor": 5
}
